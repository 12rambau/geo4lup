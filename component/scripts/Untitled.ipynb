{
 "cells": [
  {
   "cell_type": "code",
   "execution_count": null,
   "id": "9c489bbc-583b-4f50-a509-d50dca046dfc",
   "metadata": {},
   "outputs": [],
   "source": [
    "from sepal_ui import mapping as sm\n",
    "\n",
    "Map = sm.SepalMap()\n",
    "Map.add_control(sm.FullScreenControl(Map))\n",
    "Map"
   ]
  },
  {
   "cell_type": "code",
   "execution_count": null,
   "id": "85ee8336-9f1f-4f0f-a9f2-86b35378b33d",
   "metadata": {},
   "outputs": [],
   "source": [
    "import ee\n",
    "\n",
    "ee.Initialize()"
   ]
  },
  {
   "cell_type": "code",
   "execution_count": null,
   "id": "f1a5f195-43ef-457e-aedd-ae75eba54698",
   "metadata": {},
   "outputs": [],
   "source": [
    "france = ee.FeatureCollection(\"FAO/GAUL/2015/level0\").filter(\n",
    "    ee.Filter.eq(\"ADM0_NAME\", \"France\")\n",
    ")\n",
    "Map.addLayer(france, {\"color\": \"green\"}, \"france\")\n",
    "Map.centerObject(france);"
   ]
  },
  {
   "cell_type": "code",
   "execution_count": null,
   "id": "c1ede15a-0f4c-4b52-bb4e-7d5ba4bd3872",
   "metadata": {},
   "outputs": [],
   "source": [
    "bb = france.geometry().bounds().transform(ee.Projection(\"EPSG:3857\"), maxError=1)\n",
    "Map.addLayer(bb, {\"color\": \"blue\"}, \"bb\")"
   ]
  },
  {
   "cell_type": "code",
   "execution_count": null,
   "id": "7a446355-8c11-4a64-a29a-c78464da5e72",
   "metadata": {},
   "outputs": [],
   "source": [
    "coords = ee.List(bb.coordinates().get(0))\n",
    "xmin = ee.List(coords.get(0)).get(0)\n",
    "ymin = ee.List(coords.get(0)).get(1)\n",
    "xmax = ee.List(coords.get(2)).get(0)\n",
    "ymax = ee.List(coords.get(2)).get(1)"
   ]
  },
  {
   "cell_type": "code",
   "execution_count": null,
   "id": "dd6cae3a-15b4-41dc-bd3e-863f6658a101",
   "metadata": {},
   "outputs": [],
   "source": [
    "size = 100000\n",
    "xx = ee.List.sequence(xmin, ee.Number(xmax), size)\n",
    "yy = ee.List.sequence(ymin, ee.Number(ymax), size)"
   ]
  },
  {
   "cell_type": "code",
   "execution_count": null,
   "id": "b70ca86f-129c-4287-a869-994693c2eb99",
   "metadata": {},
   "outputs": [],
   "source": [
    "def map_overver_x(x):\n",
    "    def map_over_y(y):\n",
    "        xmin_loc = ee.Number(x)\n",
    "        ymin_loc = ee.Number(y)\n",
    "        xmax_loc = xmin_loc.add(ee.Number(size))\n",
    "        ymax_loc = ymin_loc.add(ee.Number(size))\n",
    "\n",
    "        coords = ee.List([xmin_loc, ymin_loc, xmax_loc, ymax_loc])\n",
    "        rect = ee.Geometry.Rectangle(coords, \"EPSG:3857\", False)\n",
    "\n",
    "        return ee.Feature(rect)\n",
    "\n",
    "    return yy.map(map_over_y)"
   ]
  },
  {
   "cell_type": "code",
   "execution_count": null,
   "id": "36d11de3-3c33-490c-a79a-c6304c981658",
   "metadata": {},
   "outputs": [],
   "source": [
    "cells = xx.map(map_overver_x).flatten()"
   ]
  },
  {
   "cell_type": "code",
   "execution_count": null,
   "id": "9f459ccb-2ae8-4d80-ab8a-9d98d46f7b02",
   "metadata": {},
   "outputs": [],
   "source": [
    "bins = ee.FeatureCollection(cells).filterBounds(france)\n",
    "Map.addLayer(bins, {\"color\": \"gray\"}, \"bins\")"
   ]
  }
 ],
 "metadata": {
  "kernelspec": {
   "display_name": "Python 3",
   "language": "python",
   "name": "python3"
  },
  "language_info": {
   "codemirror_mode": {
    "name": "ipython",
    "version": 3
   },
   "file_extension": ".py",
   "mimetype": "text/x-python",
   "name": "python",
   "nbconvert_exporter": "python",
   "pygments_lexer": "ipython3",
   "version": "3.8.10"
  }
 },
 "nbformat": 4,
 "nbformat_minor": 5
}
