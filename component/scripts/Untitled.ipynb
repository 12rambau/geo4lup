{
 "cells": [
  {
   "cell_type": "code",
   "execution_count": null,
   "id": "9c489bbc-583b-4f50-a509-d50dca046dfc",
   "metadata": {},
   "outputs": [],
   "source": [
    "from sepal_ui import mapping as sm\n",
    "\n",
    "Map = sm.SepalMap()\n",
    "Map.add_control(sm.FullScreenControl(Map))\n",
    "Map"
   ]
  },
  {
   "cell_type": "code",
   "execution_count": null,
   "id": "85ee8336-9f1f-4f0f-a9f2-86b35378b33d",
   "metadata": {},
   "outputs": [],
   "source": [
    "import ee\n",
    "\n",
    "ee.Initialize()"
   ]
  },
  {
   "cell_type": "code",
   "execution_count": null,
   "id": "f1a5f195-43ef-457e-aedd-ae75eba54698",
   "metadata": {},
   "outputs": [],
   "source": [
    "france = ee.FeatureCollection(\"FAO/GAUL/2015/level0\").filter(\n",
    "    ee.Filter.eq(\"ADM0_NAME\", \"France\")\n",
    ")\n",
    "Map.addLayer(france, {\"color\": \"green\"}, \"france\")\n",
    "Map.centerObject(france);"
   ]
  },
  {
   "cell_type": "code",
   "execution_count": null,
   "id": "c1ede15a-0f4c-4b52-bb4e-7d5ba4bd3872",
   "metadata": {},
   "outputs": [],
   "source": [
    "bb = france.geometry().bounds().transform(ee.Projection(\"EPSG:3857\"), maxError=1)\n",
    "Map.addLayer(bb, {\"color\": \"blue\"}, \"bb\")"
   ]
  },
  {
   "cell_type": "code",
   "execution_count": null,
   "id": "7a446355-8c11-4a64-a29a-c78464da5e72",
   "metadata": {},
   "outputs": [],
   "source": [
    "coords = ee.List(bb.coordinates().get(0))\n",
    "xmin = ee.List(coords.get(0)).get(0)\n",
    "ymin = ee.List(coords.get(0)).get(1)\n",
    "xmax = ee.List(coords.get(2)).get(0)\n",
    "ymax = ee.List(coords.get(2)).get(1)"
   ]
  },
  {
   "cell_type": "code",
   "execution_count": null,
   "id": "dd6cae3a-15b4-41dc-bd3e-863f6658a101",
   "metadata": {},
   "outputs": [],
   "source": [
    "size = 100000\n",
    "xx = ee.List.sequence(xmin, ee.Number(xmax), size)\n",
    "yy = ee.List.sequence(ymin, ee.Number(ymax), size)"
   ]
  },
  {
   "cell_type": "code",
   "execution_count": null,
   "id": "b70ca86f-129c-4287-a869-994693c2eb99",
   "metadata": {},
   "outputs": [],
   "source": [
    "def map_overver_x(x):\n",
    "    def map_over_y(y):\n",
    "        xmin_loc = ee.Number(x)\n",
    "        ymin_loc = ee.Number(y)\n",
    "        xmax_loc = xmin_loc.add(ee.Number(size))\n",
    "        ymax_loc = ymin_loc.add(ee.Number(size))\n",
    "\n",
    "        coords = ee.List([xmin_loc, ymin_loc, xmax_loc, ymax_loc])\n",
    "        rect = ee.Geometry.Rectangle(coords, \"EPSG:3857\", False)\n",
    "\n",
    "        return ee.Feature(rect)\n",
    "\n",
    "    return yy.map(map_over_y)"
   ]
  },
  {
   "cell_type": "code",
   "execution_count": null,
   "id": "36d11de3-3c33-490c-a79a-c6304c981658",
   "metadata": {},
   "outputs": [],
   "source": [
    "cells = xx.map(map_overver_x).flatten()"
   ]
  },
  {
   "cell_type": "code",
   "execution_count": null,
   "id": "9f459ccb-2ae8-4d80-ab8a-9d98d46f7b02",
   "metadata": {},
   "outputs": [],
   "source": [
    "bins = ee.FeatureCollection(cells).filterBounds(france)\n",
    "Map.addLayer(bins, {\"color\": \"gray\"}, \"bins\")"
   ]
  },
  {
   "cell_type": "code",
   "execution_count": null,
   "id": "03283fd0-9e33-4396-b420-cfc42fe6ac2c",
   "metadata": {},
   "outputs": [],
   "source": [
    "from sepal_ui import scripts\n",
    "import inspect\n",
    "\n",
    "inspect.getfile(scripts)"
   ]
  },
  {
   "cell_type": "code",
   "execution_count": null,
   "id": "1ffd10e0-3a8d-4f78-935e-0b3e1eaf0053",
   "metadata": {},
   "outputs": [],
   "source": [
    "import inspect\n",
    "from sepal_ui.scripts import utils as su\n",
    "import pandas as pd\n",
    "from pathlib import Path\n",
    "import ee\n",
    "\n",
    "ee.Initialize()\n",
    "\n",
    "admin = 816\n",
    "level = 0\n",
    "admin_dataset = ee.FeatureCollection(f\"FAO/GAUL/2015/level{level}\")\n",
    "gaul_dataset = Path(inspect.getfile(su)).parent / \"gaul_database.csv\"\n",
    "df = pd.read_csv(gaul_dataset)\n",
    "is_in = df.filter([f\"ADM{i}_CODE\" for i in range(3)]).isin([admin])\n",
    "aoi_level = int(is_in[~((~is_in).all(axis=1))].idxmax(1).iloc[0][3])\n",
    "line = df[~((~is_in).all(axis=1))]\n",
    "requested_level_code = int(line[f\"ADM{level}_CODE\"].values[0])\n",
    "\n",
    "# use the computerd bin level only when requested level is bigger than aoi\n",
    "bin_level = level if aoi_level > level else aoi_level\n",
    "bin_code = requested_level_code if aoi_level > level else aoi_model.admin\n",
    "\n",
    "bins = admin_dataset.filter(ee.Filter.eq(f\"ADM{bin_level}_CODE\", bin_code))"
   ]
  },
  {
   "cell_type": "code",
   "execution_count": null,
   "id": "814aa4d2-423b-49f2-b254-522dab25e659",
   "metadata": {},
   "outputs": [],
   "source": [
    "bin_level"
   ]
  },
  {
   "cell_type": "code",
   "execution_count": null,
   "id": "ec91ec8f-8af7-4dce-b3a4-2cd78ee32d3e",
   "metadata": {},
   "outputs": [],
   "source": [
    "bin_code"
   ]
  },
  {
   "cell_type": "code",
   "execution_count": null,
   "id": "02141449-8dcb-40f8-a03e-3e356607636b",
   "metadata": {},
   "outputs": [],
   "source": []
  },
  {
   "cell_type": "code",
   "execution_count": null,
   "id": "7f22a928-7620-4332-8db2-7b88bccf579c",
   "metadata": {},
   "outputs": [],
   "source": []
  }
 ],
 "metadata": {
  "kernelspec": {
   "display_name": "Python 3",
   "language": "python",
   "name": "python3"
  },
  "language_info": {
   "codemirror_mode": {
    "name": "ipython",
    "version": 3
   },
   "file_extension": ".py",
   "mimetype": "text/x-python",
   "name": "python",
   "nbconvert_exporter": "python",
   "pygments_lexer": "ipython3",
   "version": "3.8.10"
  }
 },
 "nbformat": 4,
 "nbformat_minor": 5
}
