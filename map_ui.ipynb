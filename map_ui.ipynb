{
 "cells": [
  {
   "cell_type": "code",
   "execution_count": null,
   "id": "fe7b5b8d-d76c-4c39-b211-9047667c65f3",
   "metadata": {},
   "outputs": [],
   "source": [
    "%load_ext autoreload"
   ]
  },
  {
   "cell_type": "code",
   "execution_count": null,
   "id": "2a4556bb-13b9-4132-90cb-6dbfb1a4d61f",
   "metadata": {},
   "outputs": [],
   "source": [
    "%autoreload 2"
   ]
  },
  {
   "cell_type": "code",
   "execution_count": null,
   "id": "617b0165-ba25-416d-ad0c-fba44efa8159",
   "metadata": {},
   "outputs": [],
   "source": [
    "from component import tile"
   ]
  },
  {
   "cell_type": "code",
   "execution_count": null,
   "id": "914ed484-9fd4-4687-a59c-9d4046c080fb",
   "metadata": {},
   "outputs": [],
   "source": [
    "map_tile = tile.MapTile()"
   ]
  },
  {
   "cell_type": "code",
   "execution_count": null,
   "id": "4a2e20cb-fde4-45c3-83c4-27c540b325fe",
   "metadata": {},
   "outputs": [],
   "source": [
    "map_tile"
   ]
  },
  {
   "cell_type": "code",
   "execution_count": null,
   "id": "889e5a5e-6eee-48da-a2f0-da3cb9aced1f",
   "metadata": {},
   "outputs": [],
   "source": [
    "map_tile.map.controls[-1].content.class_list.remove(\"ma-5\")"
   ]
  },
  {
   "cell_type": "code",
   "execution_count": null,
   "id": "efefd271-784b-4bde-b1b1-b6cf42523db5",
   "metadata": {},
   "outputs": [],
   "source": [
    "map_tile.map.controls[-1].content.children[0].elevation = 0"
   ]
  },
  {
   "cell_type": "code",
   "execution_count": null,
   "id": "bc7a1a84-690d-4d78-9f1b-0361314b28fa",
   "metadata": {},
   "outputs": [],
   "source": [
    "map_tile.map.controls[-1].content.class_"
   ]
  },
  {
   "cell_type": "code",
   "execution_count": null,
   "id": "0c39b94b-f73f-457f-b588-263e503ddf6b",
   "metadata": {},
   "outputs": [],
   "source": [
    "map_tile.map.controls[-1].content.children[0].class_"
   ]
  },
  {
   "cell_type": "code",
   "execution_count": null,
   "id": "3966f973-e866-4baf-9ac1-cc38102226b6",
   "metadata": {},
   "outputs": [],
   "source": [
    "map_tile.map.controls[-1].content.class_list.add(\"ma-0\")"
   ]
  },
  {
   "cell_type": "code",
   "execution_count": null,
   "id": "0442825c-0411-4556-8788-28a4b632dbf6",
   "metadata": {},
   "outputs": [],
   "source": []
  }
 ],
 "metadata": {
  "kernelspec": {
   "display_name": "Python 3",
   "language": "python",
   "name": "python3"
  },
  "language_info": {
   "codemirror_mode": {
    "name": "ipython",
    "version": 3
   },
   "file_extension": ".py",
   "mimetype": "text/x-python",
   "name": "python",
   "nbconvert_exporter": "python",
   "pygments_lexer": "ipython3",
   "version": "3.8.10"
  }
 },
 "nbformat": 4,
 "nbformat_minor": 5
}
